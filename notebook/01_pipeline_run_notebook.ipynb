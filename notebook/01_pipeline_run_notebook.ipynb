{
 "cells": [
  {
   "cell_type": "code",
   "execution_count": null,
   "id": "edddc5bc",
   "metadata": {},
   "outputs": [],
   "source": [
    "# 1. 필요한 라이브러리 및 함수 임포트\n",
    "import pandas as pd\n",
    "from pipeline_functions import merge_data, clean_missing_values, perform_clustering\n"
   ]
  },
  {
   "cell_type": "code",
   "execution_count": null,
   "id": "a5dd7b60",
   "metadata": {},
   "outputs": [],
   "source": [
    "# 2. 데이터 불러오기 (예시: CSV 파일에서 로드)\n",
    "orders_df = pd.read_csv('data/orders.csv')\n",
    "order_items_df = pd.read_csv('data/order_items.csv')\n",
    "customers_df = pd.read_csv('data/customers.csv')\n",
    "payments_df = pd.read_csv('data/payments.csv')\n",
    "products_df = pd.read_csv('data/products.csv')\n"
   ]
  },
  {
   "cell_type": "code",
   "execution_count": null,
   "id": "71770329",
   "metadata": {},
   "outputs": [],
   "source": [
    "# 3. 데이터 병합 및 전처리\n",
    "merged_df = merge_data(orders_df, order_items_df, customers_df, payments_df, products_df)\n",
    "clean_df = clean_missing_values(merged_df)\n"
   ]
  },
  {
   "cell_type": "code",
   "execution_count": null,
   "id": "e93ff90b",
   "metadata": {},
   "outputs": [],
   "source": [
    "# 4. 고객 세분화 수행 및 결과 확인\n",
    "clustered_df, cluster_summary = perform_clustering(clean_df)\n",
    "print(cluster_summary.head())\n",
    "clustered_df.head()"
   ]
  }
 ],
 "metadata": {},
 "nbformat": 4,
 "nbformat_minor": 5
}
